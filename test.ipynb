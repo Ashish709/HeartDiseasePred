{
 "cells": [
  {
   "cell_type": "code",
   "execution_count": null,
   "id": "81476595",
   "metadata": {},
   "outputs": [
    {
     "ename": "",
     "evalue": "",
     "output_type": "error",
     "traceback": [
      "\u001b[1;31mRunning cells with 'venv (Python 3.12.0)' requires the ipykernel package.\n",
      "\u001b[1;31mInstall 'ipykernel' into the Python environment. \n",
      "\u001b[1;31mCommand: 'conda install -p c:\\Users\\ashis\\Projects\\HeartDiseasePred\\venv ipykernel --update-deps --force-reinstall'"
     ]
    }
   ],
   "source": [
    "from . import heartdisease  # Relative import\n",
    "# or\n",
    "from heartdisease import some_function  # Absolute import"
   ]
  },
  {
   "cell_type": "code",
   "execution_count": 2,
   "id": "08f76ad1",
   "metadata": {},
   "outputs": [],
   "source": [
    "from heartdisease.constants import ROOT_DIR,LOG_DIR, LOG_FILE_NAME,LOG_FILE_PATH, LOG_FILE_FORMAT\n",
    "\n"
   ]
  },
  {
   "cell_type": "code",
   "execution_count": 3,
   "id": "ea763a7d",
   "metadata": {},
   "outputs": [
    {
     "data": {
      "text/plain": [
       "'c:\\\\Users\\\\ashis\\\\Projects\\\\HeartDiseasePred'"
      ]
     },
     "execution_count": 3,
     "metadata": {},
     "output_type": "execute_result"
    }
   ],
   "source": [
    "ROOT_DIR"
   ]
  },
  {
   "cell_type": "code",
   "execution_count": 4,
   "id": "e383df6f",
   "metadata": {},
   "outputs": [
    {
     "data": {
      "text/plain": [
       "('c:\\\\Users\\\\ashis\\\\Projects\\\\HeartDiseasePred',\n",
       " 'logs',\n",
       " 'log_2025-05-03-01-31-11.log',\n",
       " 'c:\\\\Users\\\\ashis\\\\Projects\\\\HeartDiseasePred\\\\logs\\\\log_2025-05-03-01-31-11.log',\n",
       " '[%(asctime)s ] %(lineno)d %(name)s - %(levelname)s - %(message)s')"
      ]
     },
     "execution_count": 4,
     "metadata": {},
     "output_type": "execute_result"
    }
   ],
   "source": [
    "ROOT_DIR,LOG_DIR, LOG_FILE_NAME,LOG_FILE_PATH, LOG_FILE_FORMAT"
   ]
  },
  {
   "cell_type": "code",
   "execution_count": 5,
   "id": "bd35f766",
   "metadata": {},
   "outputs": [
    {
     "name": "stdout",
     "output_type": "stream",
     "text": [
      "c:\\Users\\ashis\\Projects\\HeartDiseasePred\n"
     ]
    }
   ],
   "source": [
    "import os\n",
    "print(os.getcwd())"
   ]
  },
  {
   "cell_type": "code",
   "execution_count": null,
   "id": "9678564a",
   "metadata": {},
   "outputs": [],
   "source": []
  }
 ],
 "metadata": {
  "kernelspec": {
   "display_name": "Python 3",
   "language": "python",
   "name": "python3"
  },
  "language_info": {
   "codemirror_mode": {
    "name": "ipython",
    "version": 3
   },
   "file_extension": ".py",
   "mimetype": "text/x-python",
   "name": "python",
   "nbconvert_exporter": "python",
   "pygments_lexer": "ipython3",
   "version": "3.12.0"
  }
 },
 "nbformat": 4,
 "nbformat_minor": 5
}
