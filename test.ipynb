{
 "cells": [
  {
   "cell_type": "code",
   "execution_count": 3,
   "id": "40327b60",
   "metadata": {},
   "outputs": [],
   "source": [
    "import sys\n",
    "from heartdisease.logging.logger import logging\n",
    "from heartdisease.exception.exception import CustomException\n",
    "\n",
    "\n",
    "\n",
    "\n",
    "from heartdisease.entity.artifact_entity import DataIngestionArtifact\n",
    "from heartdisease.components.data_ingestion import DataIngestion"
   ]
  },
  {
   "cell_type": "code",
   "execution_count": 4,
   "id": "9174283a",
   "metadata": {},
   "outputs": [],
   "source": [
    "from heartdisease.entity.config_entity import  DataIngestionConfig"
   ]
  },
  {
   "cell_type": "code",
   "execution_count": 1,
   "id": "71afcd45",
   "metadata": {},
   "outputs": [],
   "source": [
    "from heartdisease.entity.config_entity import TrainingPipelineConfig"
   ]
  },
  {
   "cell_type": "code",
   "execution_count": 5,
   "id": "9dbd065a",
   "metadata": {},
   "outputs": [],
   "source": [
    "training_pipeline = TrainingPipelineConfig()\n",
    "\n",
    "data_ingestion_config = DataIngestionConfig(training_pipeline_config=TrainingPipelineConfig())\n",
    "data_ingestion = DataIngestion(data_ingestion_config=data_ingestion_config)"
   ]
  },
  {
   "cell_type": "code",
   "execution_count": 6,
   "id": "860c39c6",
   "metadata": {},
   "outputs": [
    {
     "data": {
      "text/plain": [
       "'Data\\\\heart.csv'"
      ]
     },
     "execution_count": 6,
     "metadata": {},
     "output_type": "execute_result"
    }
   ],
   "source": [
    "data_ingestion_config.file_path"
   ]
  },
  {
   "cell_type": "code",
   "execution_count": 7,
   "id": "0eca3fcd",
   "metadata": {},
   "outputs": [
    {
     "data": {
      "text/plain": [
       "'Artifacts\\\\data_ingetsion\\\\raw_data_dir\\\\heart.csv'"
      ]
     },
     "execution_count": 7,
     "metadata": {},
     "output_type": "execute_result"
    }
   ],
   "source": [
    "data_ingestion_config.feature_store_file_path"
   ]
  },
  {
   "cell_type": "code",
   "execution_count": null,
   "id": "efd9e42e",
   "metadata": {},
   "outputs": [],
   "source": []
  }
 ],
 "metadata": {
  "kernelspec": {
   "display_name": "Python 3",
   "language": "python",
   "name": "python3"
  },
  "language_info": {
   "codemirror_mode": {
    "name": "ipython",
    "version": 3
   },
   "file_extension": ".py",
   "mimetype": "text/x-python",
   "name": "python",
   "nbconvert_exporter": "python",
   "pygments_lexer": "ipython3",
   "version": "3.12.0"
  }
 },
 "nbformat": 4,
 "nbformat_minor": 5
}
